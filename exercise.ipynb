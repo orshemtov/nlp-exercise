{
 "cells": [
  {
   "cell_type": "markdown",
   "metadata": {},
   "source": [
    "# Subreddits Classification\n",
    "\n",
    "# Project Outlook\n",
    "\n",
    "1. Gather data from Reddit\n",
    "2. Preprocess the data\n",
    "3. Split into train/test sets\n",
    "4. Modeling\n",
    "5. Evaluation"
   ]
  },
  {
   "cell_type": "code",
   "execution_count": 1,
   "metadata": {},
   "outputs": [],
   "source": [
    "import configparser\n",
    "import json\n",
    "import os\n",
    "import random\n",
    "import re\n",
    "from collections import Counter\n",
    "\n",
    "import matplotlib as mpl\n",
    "import matplotlib.pyplot as plt\n",
    "import numpy as np\n",
    "import pandas as pd\n",
    "import praw\n",
    "import tensorflow as tf\n",
    "from nltk.corpus import stopwords\n",
    "from sklearn.metrics import (accuracy_score, f1_score, precision_score,\n",
    "                             recall_score)\n",
    "from tensorflow.keras.callbacks import EarlyStopping, TensorBoard\n",
    "from tensorflow.keras.layers import (Dense, Dropout, Embedding,\n",
    "                                     GlobalAveragePooling1D)\n",
    "from tensorflow.keras.losses import SparseCategoricalCrossentropy\n",
    "from tensorflow.keras.models import Sequential\n",
    "from tensorflow.keras.optimizers import Adam\n",
    "from tensorflow.keras.preprocessing.sequence import pad_sequences\n",
    "from tensorflow.keras.preprocessing.text import Tokenizer\n",
    "from tqdm.notebook import tqdm\n"
   ]
  },
  {
   "cell_type": "code",
   "execution_count": 2,
   "metadata": {},
   "outputs": [],
   "source": [
    "mpl.style.use('seaborn')"
   ]
  },
  {
   "cell_type": "code",
   "execution_count": 3,
   "metadata": {},
   "outputs": [],
   "source": [
    "TOPICS = [\n",
    "    'entertainment',\n",
    "    'python',\n",
    "    'science',\n",
    "    'gaming',\n",
    "    'books',\n",
    "    'technology',\n",
    "    'music',\n",
    "    'politics',\n",
    "    'sports',\n",
    "    'travel',\n",
    "]\n",
    "\n",
    "if not os.path.exists('data'):\n",
    "    os.makedirs('data')\n",
    "\n",
    "if not os.path.exists('models'):\n",
    "    os.makedirs('models')\n",
    "\n",
    "if not os.path.exists('results'):\n",
    "    os.makedirs('results')\n",
    "\n",
    "DATA_PATH = os.path.join('data', 'data.json')\n",
    "MODEL_PATH = os.path.join('models', 'model.h5')\n",
    "PREDICTIONS_PATH = os.path.join('results', 'predictions.csv')\n",
    "GROUP_PREDICTIONS_PATH = os.path.join('results', 'group_predictions.csv')"
   ]
  },
  {
   "cell_type": "markdown",
   "metadata": {},
   "source": [
    "# Getting the data\n",
    "\n",
    "Reddit has an API we can use for this task, we'll put our credentials in the `config.ini` file, create an instance of the API client, request the subreddits we want and write the data to a `json` file in the following format:\n",
    "\n",
    "[\n",
    "    'subreddit': 'gaming',\n",
    "    'label': 3,\n",
    "    'text': 'I keep working on this game where you pilot cargo ships on a full-scale planet with realistic physics. (it's called Flight Of Nova)'\n",
    "]\n",
    "\n",
    "We're gonna use the `text` to classify the subreddit.\n",
    "\n",
    "NOTE\n",
    "----\n",
    "\n",
    "Some subreddits contain more characters than others, some have a body and some only a title, I decided to concatenate the `title` + `body` to create the `text` field of each JSON object."
   ]
  },
  {
   "cell_type": "code",
   "execution_count": 4,
   "metadata": {},
   "outputs": [],
   "source": [
    "def get_config():\n",
    "    '''Retrieves the config file and parses it into JSON format'''\n",
    "    config = configparser.ConfigParser()\n",
    "    config.read('config.ini')\n",
    "    config = config['REDDIT_API']\n",
    "    return config"
   ]
  },
  {
   "cell_type": "code",
   "execution_count": 5,
   "metadata": {},
   "outputs": [],
   "source": [
    "def get_data(n_posts=1000):\n",
    "    # API Credentials\n",
    "    config = get_config()\n",
    "    \n",
    "    reddit = praw.Reddit(\n",
    "        client_id=config.get('client_id'),\n",
    "        client_secret=config.get('secret'),\n",
    "        username=config.get('username'),\n",
    "        password=config.get('password'),\n",
    "        user_agent='exercise'\n",
    "    )\n",
    "\n",
    "    data = []\n",
    "\n",
    "    for topic in tqdm(TOPICS):\n",
    "        subreddit = reddit.subreddit(topic)\n",
    "        \n",
    "        # Use hot posts\n",
    "        # hot_posts subreddit.hot(limit=n_posts)\n",
    "\n",
    "        # Or top posts\n",
    "        top_posts = subreddit.top(limit=n_posts)\n",
    "        \n",
    "        for post in top_posts:\n",
    "            text = post.title + ' ' + post.selftext\n",
    "            data.append({\n",
    "                    'subreddit': subreddit.display_name,\n",
    "                    'label': TOPICS.index(topic),\n",
    "                    'post': text,\n",
    "                })\n",
    "\n",
    "    random.shuffle(data)  # Shuffle the data\n",
    "    \n",
    "    # Save to file\n",
    "    with open(DATA_PATH, 'w') as f:\n",
    "        json.dump(data, f)\n",
    "\n",
    "    print('DATA HAS BEEN SAVED TO PATH: {}'.format(DATA_PATH))\n",
    "    "
   ]
  },
  {
   "cell_type": "code",
   "execution_count": 6,
   "metadata": {},
   "outputs": [],
   "source": [
    "if not os.path.exists(DATA_PATH):\n",
    "    get_data()"
   ]
  },
  {
   "cell_type": "markdown",
   "metadata": {},
   "source": [
    "## Now our data is saved in `data/data.json`, next we will pre-process it.\n",
    "\n",
    "1. Removing special characters\n",
    "2. Convert text to lowercase\n",
    "3. Remove punctuation\n",
    "4. Remove stop words\n",
    "5. Tokenization (represent words as integers)"
   ]
  },
  {
   "cell_type": "code",
   "execution_count": 7,
   "metadata": {},
   "outputs": [],
   "source": [
    "def load_data():\n",
    "    with open(DATA_PATH, 'r') as f:\n",
    "        data = json.load(f)\n",
    "    return data"
   ]
  },
  {
   "cell_type": "code",
   "execution_count": 8,
   "metadata": {},
   "outputs": [
    {
     "data": {
      "text/html": [
       "<div>\n",
       "<style scoped>\n",
       "    .dataframe tbody tr th:only-of-type {\n",
       "        vertical-align: middle;\n",
       "    }\n",
       "\n",
       "    .dataframe tbody tr th {\n",
       "        vertical-align: top;\n",
       "    }\n",
       "\n",
       "    .dataframe thead th {\n",
       "        text-align: right;\n",
       "    }\n",
       "</style>\n",
       "<table border=\"1\" class=\"dataframe\">\n",
       "  <thead>\n",
       "    <tr style=\"text-align: right;\">\n",
       "      <th></th>\n",
       "      <th>subreddit</th>\n",
       "      <th>label</th>\n",
       "      <th>post</th>\n",
       "    </tr>\n",
       "  </thead>\n",
       "  <tbody>\n",
       "    <tr>\n",
       "      <th>0</th>\n",
       "      <td>python</td>\n",
       "      <td>1</td>\n",
       "      <td>Python patch, first try.</td>\n",
       "    </tr>\n",
       "    <tr>\n",
       "      <th>1</th>\n",
       "      <td>books</td>\n",
       "      <td>4</td>\n",
       "      <td>Kids Practice Reading to Shy Shelter Dogs at H...</td>\n",
       "    </tr>\n",
       "    <tr>\n",
       "      <th>2</th>\n",
       "      <td>sports</td>\n",
       "      <td>8</td>\n",
       "      <td>Miami and Duke played a football game on Slip ...</td>\n",
       "    </tr>\n",
       "    <tr>\n",
       "      <th>3</th>\n",
       "      <td>travel</td>\n",
       "      <td>9</td>\n",
       "      <td>Heading to Shangri-La, China on a mystical ani...</td>\n",
       "    </tr>\n",
       "    <tr>\n",
       "      <th>4</th>\n",
       "      <td>travel</td>\n",
       "      <td>9</td>\n",
       "      <td>Lived in the UK for 23 years and I visited Cor...</td>\n",
       "    </tr>\n",
       "    <tr>\n",
       "      <th>...</th>\n",
       "      <td>...</td>\n",
       "      <td>...</td>\n",
       "      <td>...</td>\n",
       "    </tr>\n",
       "    <tr>\n",
       "      <th>9917</th>\n",
       "      <td>entertainment</td>\n",
       "      <td>0</td>\n",
       "      <td>Britney Spears called 911 to report herself as...</td>\n",
       "    </tr>\n",
       "    <tr>\n",
       "      <th>9918</th>\n",
       "      <td>travel</td>\n",
       "      <td>9</td>\n",
       "      <td>View from the London Eye</td>\n",
       "    </tr>\n",
       "    <tr>\n",
       "      <th>9919</th>\n",
       "      <td>science</td>\n",
       "      <td>2</td>\n",
       "      <td>Parents who force unremorseful kids to apologi...</td>\n",
       "    </tr>\n",
       "    <tr>\n",
       "      <th>9920</th>\n",
       "      <td>science</td>\n",
       "      <td>2</td>\n",
       "      <td>The American Dream is slowly fading away as re...</td>\n",
       "    </tr>\n",
       "    <tr>\n",
       "      <th>9921</th>\n",
       "      <td>entertainment</td>\n",
       "      <td>0</td>\n",
       "      <td>\"Cobra Kai\" S3 uses Kreese to warn against ove...</td>\n",
       "    </tr>\n",
       "  </tbody>\n",
       "</table>\n",
       "<p>9922 rows × 3 columns</p>\n",
       "</div>"
      ],
      "text/plain": [
       "          subreddit  label                                               post\n",
       "0            python      1                          Python patch, first try. \n",
       "1             books      4  Kids Practice Reading to Shy Shelter Dogs at H...\n",
       "2            sports      8  Miami and Duke played a football game on Slip ...\n",
       "3            travel      9  Heading to Shangri-La, China on a mystical ani...\n",
       "4            travel      9  Lived in the UK for 23 years and I visited Cor...\n",
       "...             ...    ...                                                ...\n",
       "9917  entertainment      0  Britney Spears called 911 to report herself as...\n",
       "9918         travel      9                          View from the London Eye \n",
       "9919        science      2  Parents who force unremorseful kids to apologi...\n",
       "9920        science      2  The American Dream is slowly fading away as re...\n",
       "9921  entertainment      0  \"Cobra Kai\" S3 uses Kreese to warn against ove...\n",
       "\n",
       "[9922 rows x 3 columns]"
      ]
     },
     "execution_count": 8,
     "metadata": {},
     "output_type": "execute_result"
    }
   ],
   "source": [
    "data = load_data()\n",
    "\n",
    "# I'll put the data in a DataFrame so it'll be nicer to see what it contains\n",
    "data_df = pd.DataFrame(data)\n",
    "data_df"
   ]
  },
  {
   "cell_type": "code",
   "execution_count": 9,
   "metadata": {},
   "outputs": [
    {
     "name": "stdout",
     "output_type": "stream",
     "text": [
      "<class 'pandas.core.frame.DataFrame'>\n",
      "RangeIndex: 9922 entries, 0 to 9921\n",
      "Data columns (total 3 columns):\n",
      " #   Column     Non-Null Count  Dtype \n",
      "---  ------     --------------  ----- \n",
      " 0   subreddit  9922 non-null   object\n",
      " 1   label      9922 non-null   int64 \n",
      " 2   post       9922 non-null   object\n",
      "dtypes: int64(1), object(2)\n",
      "memory usage: 232.7+ KB\n"
     ]
    }
   ],
   "source": [
    "data_df.info()"
   ]
  },
  {
   "cell_type": "code",
   "execution_count": 10,
   "metadata": {},
   "outputs": [
    {
     "data": {
      "text/plain": [
       "'I created a plague doctor sculpture in Minecraft, I think it turned out pretty good! '"
      ]
     },
     "execution_count": 10,
     "metadata": {},
     "output_type": "execute_result"
    }
   ],
   "source": [
    "# Example of the raw text\n",
    "\n",
    "data_df.sample()['post'].iloc[0]"
   ]
  },
  {
   "cell_type": "code",
   "execution_count": 11,
   "metadata": {},
   "outputs": [
    {
     "data": {
      "text/plain": [
       "<AxesSubplot:>"
      ]
     },
     "execution_count": 11,
     "metadata": {},
     "output_type": "execute_result"
    },
    {
     "data": {
      "image/png": "[encoded data removed]",
      "text/plain": [
       "<Figure size 576x396 with 1 Axes>"
      ]
     },
     "metadata": {},
     "output_type": "display_data"
    }
   ],
   "source": [
    "# The data is equally distributed in terms of classes\n",
    "\n",
    "data_df['subreddit'].value_counts().plot(kind='bar')"
   ]
  },
  {
   "cell_type": "markdown",
   "metadata": {},
   "source": [
    "## Now we will split each item in the data to `text` and `label`"
   ]
  },
  {
   "cell_type": "code",
   "execution_count": 12,
   "metadata": {},
   "outputs": [],
   "source": [
    "def parse_data(data):\n",
    "    texts = [post['post'] for post in data]\n",
    "    labels = [post['label'] for post in data]\n",
    "    \n",
    "    return texts, labels"
   ]
  },
  {
   "cell_type": "code",
   "execution_count": 13,
   "metadata": {},
   "outputs": [
    {
     "name": "stdout",
     "output_type": "stream",
     "text": [
      "Python patch, first try. \n",
      "1 python\n"
     ]
    }
   ],
   "source": [
    "texts, labels = parse_data(data)\n",
    "\n",
    "print(texts[0])\n",
    "print(labels[0], TOPICS[labels[0]])"
   ]
  },
  {
   "cell_type": "markdown",
   "metadata": {},
   "source": [
    "## Now let's clean the texts"
   ]
  },
  {
   "cell_type": "code",
   "execution_count": 14,
   "metadata": {},
   "outputs": [],
   "source": [
    "def clean_text(text):\n",
    "    '''Clean sentences, remove punctuation, convert to lowercase, split and remove stopwords'''\n",
    "    text = re.sub(\"[^a-zA-Z]\", ' ', text)\n",
    "    text = text.lower().split()\n",
    "    swords = set(stopwords.words(\"english\"))\n",
    "    swords.add('https')\n",
    "    text = [word for word in text if word not in swords]\n",
    "    text = \" \".join(text)\n",
    "\n",
    "    return text"
   ]
  },
  {
   "cell_type": "code",
   "execution_count": 15,
   "metadata": {},
   "outputs": [
    {
     "name": "stdout",
     "output_type": "stream",
     "text": [
      "Python patch, first try. \n",
      "python patch first try\n"
     ]
    }
   ],
   "source": [
    "texts_cleaned = list(map(clean_text, texts))\n",
    "\n",
    "# Dirty\n",
    "print(texts[0])\n",
    "\n",
    "# Clean\n",
    "print(texts_cleaned[0])"
   ]
  },
  {
   "cell_type": "code",
   "execution_count": 16,
   "metadata": {},
   "outputs": [
    {
     "data": {
      "text/plain": [
       "com           5979\n",
       "trump         3437\n",
       "www           2675\n",
       "python        1457\n",
       "new           1215\n",
       "              ... \n",
       "navigate         1\n",
       "hoopla           1\n",
       "goof             1\n",
       "fresher          1\n",
       "glorifying       1\n",
       "Length: 27451, dtype: int64"
      ]
     },
     "execution_count": 16,
     "metadata": {},
     "output_type": "execute_result"
    }
   ],
   "source": [
    "# Word frequency\n",
    "\n",
    "counter = Counter()\n",
    "texts_cleaned_splitted = list(map(str.split, texts_cleaned))\n",
    "\n",
    "for text in texts_cleaned_splitted:\n",
    "    counter.update(text)\n",
    "\n",
    "word_freq = pd.Series(counter).sort_values(ascending=False)\n",
    "\n",
    "word_freq"
   ]
  },
  {
   "cell_type": "markdown",
   "metadata": {},
   "source": [
    "# Now we will split the data to train/test sets"
   ]
  },
  {
   "cell_type": "code",
   "execution_count": 17,
   "metadata": {},
   "outputs": [],
   "source": [
    "def train_test_split(texts, labels, train_size=0.8):\n",
    "    train_size = int(len(texts) * train_size)\n",
    "    \n",
    "    # Train\n",
    "    train_texts = texts[:train_size]\n",
    "    train_labels = labels[:train_size]\n",
    "\n",
    "    # Test\n",
    "    test_texts = texts[train_size:]\n",
    "    test_labels = labels[train_size:]\n",
    "\n",
    "    return (train_texts, train_labels), (test_texts, test_labels)"
   ]
  },
  {
   "cell_type": "code",
   "execution_count": 18,
   "metadata": {},
   "outputs": [],
   "source": [
    "(train_texts, train_labels), (test_texts, test_labels) = train_test_split(texts_cleaned, labels)"
   ]
  },
  {
   "cell_type": "code",
   "execution_count": 19,
   "metadata": {},
   "outputs": [
    {
     "name": "stdout",
     "output_type": "stream",
     "text": [
      "Training: 7937 7937\n",
      "Test: 1985 1985\n"
     ]
    }
   ],
   "source": [
    "# Inspect length of train set and test set\n",
    "print('Training:', len(train_texts), len(train_labels))\n",
    "print('Test:', len(test_texts), len(test_labels))"
   ]
  },
  {
   "cell_type": "markdown",
   "metadata": {},
   "source": [
    "## Now it's time to tokenize the words, we will need to create a word index, convert texts to sequences of integers and then apply padding so that the model can receive a fixed-size input"
   ]
  },
  {
   "cell_type": "code",
   "execution_count": 20,
   "metadata": {},
   "outputs": [
    {
     "data": {
      "text/plain": [
       "<OOV>             1\n",
       "com               2\n",
       "trump             3\n",
       "www               4\n",
       "python            5\n",
       "              ...  \n",
       "velouria      24646\n",
       "mose          24647\n",
       "masoe         24648\n",
       "correlated    24649\n",
       "caucuses      24650\n",
       "Length: 24650, dtype: int64"
      ]
     },
     "execution_count": 20,
     "metadata": {},
     "output_type": "execute_result"
    }
   ],
   "source": [
    "vocab_size = 10000  # Size of the vocabulary\n",
    "max_length = 250  # Max length of a sequence\n",
    "oov_token = '<OOV>'  # If a word is out-of-vocabulary, it gets padded with this token\n",
    "padding_type = 'post'\n",
    "trunc_type = 'post'\n",
    "\n",
    "tokenizer = Tokenizer(num_words=vocab_size, oov_token=oov_token)\n",
    "\n",
    "tokenizer.fit_on_texts(train_texts)  # Build a corpus from the training data\n",
    "word_index = tokenizer.word_index\n",
    "\n",
    "# Every word gets its own index in the corpus\n",
    "pd.Series(word_index)"
   ]
  },
  {
   "cell_type": "code",
   "execution_count": 21,
   "metadata": {},
   "outputs": [
    {
     "name": "stdout",
     "output_type": "stream",
     "text": [
      "python patch first try\n",
      "[5, 5727, 15, 237]\n"
     ]
    }
   ],
   "source": [
    "train_sequences = tokenizer.texts_to_sequences(train_texts)\n",
    "test_sequences = tokenizer.texts_to_sequences(test_texts)\n",
    "\n",
    "# Display the generated sequence for the first text\n",
    "print(train_texts[0])\n",
    "print(train_sequences[0])"
   ]
  },
  {
   "cell_type": "markdown",
   "metadata": {},
   "source": [
    "## Padding the sequences"
   ]
  },
  {
   "cell_type": "code",
   "execution_count": 22,
   "metadata": {},
   "outputs": [],
   "source": [
    "train_padded = pad_sequences(train_sequences, \n",
    "                             padding=padding_type, \n",
    "                             truncating=trunc_type, \n",
    "                             maxlen=max_length)"
   ]
  },
  {
   "cell_type": "code",
   "execution_count": 23,
   "metadata": {},
   "outputs": [],
   "source": [
    "test_padded = pad_sequences(test_sequences, \n",
    "                            padding=padding_type, \n",
    "                            truncating=trunc_type, \n",
    "                            maxlen=max_length)"
   ]
  },
  {
   "cell_type": "code",
   "execution_count": 24,
   "metadata": {},
   "outputs": [
    {
     "data": {
      "text/plain": [
       "array([   5, 5727,   15,  237,    0,    0,    0,    0,    0,    0,    0,\n",
       "          0,    0,    0,    0,    0,    0,    0,    0,    0,    0,    0,\n",
       "          0,    0,    0,    0,    0,    0,    0,    0,    0,    0,    0,\n",
       "          0,    0,    0,    0,    0,    0,    0,    0,    0,    0,    0,\n",
       "          0,    0,    0,    0,    0,    0,    0,    0,    0,    0,    0,\n",
       "          0,    0,    0,    0,    0,    0,    0,    0,    0,    0,    0,\n",
       "          0,    0,    0,    0,    0,    0,    0,    0,    0,    0,    0,\n",
       "          0,    0,    0,    0,    0,    0,    0,    0,    0,    0,    0,\n",
       "          0,    0,    0,    0,    0,    0,    0,    0,    0,    0,    0,\n",
       "          0,    0,    0,    0,    0,    0,    0,    0,    0,    0,    0,\n",
       "          0,    0,    0,    0,    0,    0,    0,    0,    0,    0,    0,\n",
       "          0,    0,    0,    0,    0,    0,    0,    0,    0,    0,    0,\n",
       "          0,    0,    0,    0,    0,    0,    0,    0,    0,    0,    0,\n",
       "          0,    0,    0,    0,    0,    0,    0,    0,    0,    0,    0,\n",
       "          0,    0,    0,    0,    0,    0,    0,    0,    0,    0,    0,\n",
       "          0,    0,    0,    0,    0,    0,    0,    0,    0,    0,    0,\n",
       "          0,    0,    0,    0,    0,    0,    0,    0,    0,    0,    0,\n",
       "          0,    0,    0,    0,    0,    0,    0,    0,    0,    0,    0,\n",
       "          0,    0,    0,    0,    0,    0,    0,    0,    0,    0,    0,\n",
       "          0,    0,    0,    0,    0,    0,    0,    0,    0,    0,    0,\n",
       "          0,    0,    0,    0,    0,    0,    0,    0,    0,    0,    0,\n",
       "          0,    0,    0,    0,    0,    0,    0,    0,    0,    0,    0,\n",
       "          0,    0,    0,    0,    0,    0,    0,    0])"
      ]
     },
     "execution_count": 24,
     "metadata": {},
     "output_type": "execute_result"
    }
   ],
   "source": [
    "train_padded[0]"
   ]
  },
  {
   "cell_type": "markdown",
   "metadata": {},
   "source": [
    "## I'll make it a function so we can easily use it later"
   ]
  },
  {
   "cell_type": "code",
   "execution_count": 25,
   "metadata": {},
   "outputs": [],
   "source": [
    "def build_corpus(train_texts, vocab_size=10000, oov_token='<OOV>'):\n",
    "    tokenizer = Tokenizer(num_words=vocab_size, oov_token=oov_token)\n",
    "    tokenizer.fit_on_texts(train_texts)\n",
    "    return tokenizer\n",
    "\n",
    "def tokenize(sequence, tokenizer, max_length=250, padding_type='post', trunc_type='post'):\n",
    "    sequence = tokenizer.texts_to_sequences(sequence)\n",
    "    padded = pad_sequences(sequence, \n",
    "                           padding=padding_type, \n",
    "                           truncating=trunc_type, \n",
    "                           maxlen=max_length)\n",
    "    return padded"
   ]
  },
  {
   "cell_type": "code",
   "execution_count": 26,
   "metadata": {},
   "outputs": [],
   "source": [
    "tokenizer = build_corpus(train_texts)\n",
    "train_padded = tokenize(train_texts, tokenizer)\n",
    "test_padded = tokenize(test_texts, tokenizer)"
   ]
  },
  {
   "cell_type": "markdown",
   "metadata": {},
   "source": [
    "## Fun time! Let's create the model"
   ]
  },
  {
   "cell_type": "code",
   "execution_count": 27,
   "metadata": {},
   "outputs": [],
   "source": [
    "def create_model(units=64, embedding_dim=32, learning_rate=3e-4):\n",
    "    model = Sequential([\n",
    "        Embedding(vocab_size, embedding_dim, input_length=max_length),\n",
    "        GlobalAveragePooling1D(),\n",
    "        Dense(units, activation='relu'),\n",
    "        Dropout(0.2),\n",
    "        Dense(10, activation='softmax')\n",
    "    ])\n",
    "\n",
    "    optimizer = Adam(learning_rate=learning_rate)\n",
    "    loss = SparseCategoricalCrossentropy()\n",
    "    \n",
    "    model.compile(loss=loss, optimizer=optimizer, metrics=['accuracy'])\n",
    "\n",
    "    return model"
   ]
  },
  {
   "cell_type": "code",
   "execution_count": 28,
   "metadata": {},
   "outputs": [],
   "source": [
    "model = create_model()"
   ]
  },
  {
   "cell_type": "code",
   "execution_count": 29,
   "metadata": {},
   "outputs": [],
   "source": [
    "# Required for the model to work properly\n",
    "\n",
    "train_padded = np.array(train_padded, dtype='int32')\n",
    "train_labels = np.array(train_labels, dtype='int32')\n",
    "test_padded = np.array(test_padded, dtype='int32')\n",
    "test_labels = np.array(test_labels, dtype='int32')"
   ]
  },
  {
   "cell_type": "code",
   "execution_count": 30,
   "metadata": {},
   "outputs": [],
   "source": [
    "# Callbacks\n",
    "early_stopping = EarlyStopping(monitor='val_accuracy', patience=5)\n",
    "tb = TensorBoard()"
   ]
  },
  {
   "cell_type": "code",
   "execution_count": 31,
   "metadata": {},
   "outputs": [
    {
     "name": "stdout",
     "output_type": "stream",
     "text": [
      "Epoch 1/100\n",
      "249/249 - 2s - loss: 2.3007 - accuracy: 0.1167 - val_loss: 2.2988 - val_accuracy: 0.1259\n",
      "Epoch 2/100\n",
      "249/249 - 1s - loss: 2.2919 - accuracy: 0.1473 - val_loss: 2.2858 - val_accuracy: 0.1365\n",
      "Epoch 3/100\n",
      "249/249 - 1s - loss: 2.2695 - accuracy: 0.1586 - val_loss: 2.2569 - val_accuracy: 0.1280\n",
      "Epoch 4/100\n",
      "249/249 - 1s - loss: 2.2343 - accuracy: 0.1712 - val_loss: 2.2260 - val_accuracy: 0.1345\n",
      "Epoch 5/100\n",
      "249/249 - 1s - loss: 2.1994 - accuracy: 0.1938 - val_loss: 2.1987 - val_accuracy: 0.1723\n",
      "Epoch 6/100\n",
      "249/249 - 1s - loss: 2.1654 - accuracy: 0.2297 - val_loss: 2.1664 - val_accuracy: 0.1985\n",
      "Epoch 7/100\n",
      "249/249 - 1s - loss: 2.1301 - accuracy: 0.2524 - val_loss: 2.1334 - val_accuracy: 0.2287\n",
      "Epoch 8/100\n",
      "249/249 - 1s - loss: 2.0875 - accuracy: 0.2861 - val_loss: 2.0961 - val_accuracy: 0.3008\n",
      "Epoch 9/100\n",
      "249/249 - 1s - loss: 2.0433 - accuracy: 0.3120 - val_loss: 2.0570 - val_accuracy: 0.3350\n",
      "Epoch 10/100\n",
      "249/249 - 1s - loss: 1.9941 - accuracy: 0.3234 - val_loss: 2.0138 - val_accuracy: 0.2836\n",
      "Epoch 11/100\n",
      "249/249 - 1s - loss: 1.9465 - accuracy: 0.3334 - val_loss: 1.9709 - val_accuracy: 0.3189\n",
      "Epoch 12/100\n",
      "249/249 - 1s - loss: 1.8968 - accuracy: 0.3564 - val_loss: 1.9276 - val_accuracy: 0.3567\n",
      "Epoch 13/100\n",
      "249/249 - 1s - loss: 1.8480 - accuracy: 0.3773 - val_loss: 1.8884 - val_accuracy: 0.4076\n",
      "Epoch 14/100\n",
      "249/249 - 1s - loss: 1.7966 - accuracy: 0.4012 - val_loss: 1.8472 - val_accuracy: 0.4448\n",
      "Epoch 15/100\n",
      "249/249 - 1s - loss: 1.7466 - accuracy: 0.4277 - val_loss: 1.8053 - val_accuracy: 0.4458\n",
      "Epoch 16/100\n",
      "249/249 - 1s - loss: 1.6997 - accuracy: 0.4502 - val_loss: 1.7661 - val_accuracy: 0.4569\n",
      "Epoch 17/100\n",
      "249/249 - 1s - loss: 1.6553 - accuracy: 0.4744 - val_loss: 1.7288 - val_accuracy: 0.4720\n",
      "Epoch 18/100\n",
      "249/249 - 1s - loss: 1.6096 - accuracy: 0.4965 - val_loss: 1.6956 - val_accuracy: 0.4796\n",
      "Epoch 19/100\n",
      "249/249 - 1s - loss: 1.5671 - accuracy: 0.5026 - val_loss: 1.6555 - val_accuracy: 0.5033\n",
      "Epoch 20/100\n",
      "249/249 - 1s - loss: 1.5231 - accuracy: 0.5169 - val_loss: 1.6263 - val_accuracy: 0.5013\n",
      "Epoch 21/100\n",
      "249/249 - 1s - loss: 1.4819 - accuracy: 0.5413 - val_loss: 1.5883 - val_accuracy: 0.5174\n",
      "Epoch 22/100\n",
      "249/249 - 1s - loss: 1.4422 - accuracy: 0.5550 - val_loss: 1.5572 - val_accuracy: 0.5264\n",
      "Epoch 23/100\n",
      "249/249 - 1s - loss: 1.4012 - accuracy: 0.5697 - val_loss: 1.5301 - val_accuracy: 0.5199\n",
      "Epoch 24/100\n",
      "249/249 - 1s - loss: 1.3660 - accuracy: 0.5852 - val_loss: 1.4999 - val_accuracy: 0.5159\n",
      "Epoch 25/100\n",
      "249/249 - 1s - loss: 1.3308 - accuracy: 0.5930 - val_loss: 1.4687 - val_accuracy: 0.5572\n",
      "Epoch 26/100\n",
      "249/249 - 1s - loss: 1.2975 - accuracy: 0.6065 - val_loss: 1.4372 - val_accuracy: 0.5804\n",
      "Epoch 27/100\n",
      "249/249 - 1s - loss: 1.2627 - accuracy: 0.6215 - val_loss: 1.4124 - val_accuracy: 0.5914\n",
      "Epoch 28/100\n",
      "249/249 - 1s - loss: 1.2280 - accuracy: 0.6417 - val_loss: 1.3908 - val_accuracy: 0.5909\n",
      "Epoch 29/100\n",
      "249/249 - 1s - loss: 1.1916 - accuracy: 0.6533 - val_loss: 1.3727 - val_accuracy: 0.5657\n",
      "Epoch 30/100\n",
      "249/249 - 1s - loss: 1.1583 - accuracy: 0.6720 - val_loss: 1.3370 - val_accuracy: 0.6091\n",
      "Epoch 31/100\n",
      "249/249 - 1s - loss: 1.1328 - accuracy: 0.6765 - val_loss: 1.3127 - val_accuracy: 0.6312\n",
      "Epoch 32/100\n",
      "249/249 - 1s - loss: 1.0952 - accuracy: 0.6951 - val_loss: 1.2902 - val_accuracy: 0.6292\n",
      "Epoch 33/100\n",
      "249/249 - 1s - loss: 1.0660 - accuracy: 0.6961 - val_loss: 1.2942 - val_accuracy: 0.6076\n",
      "Epoch 34/100\n",
      "249/249 - 1s - loss: 1.0377 - accuracy: 0.7135 - val_loss: 1.2450 - val_accuracy: 0.6403\n",
      "Epoch 35/100\n",
      "249/249 - 1s - loss: 1.0080 - accuracy: 0.7284 - val_loss: 1.2283 - val_accuracy: 0.6509\n",
      "Epoch 36/100\n",
      "249/249 - 1s - loss: 0.9763 - accuracy: 0.7321 - val_loss: 1.2077 - val_accuracy: 0.6559\n",
      "Epoch 37/100\n",
      "249/249 - 1s - loss: 0.9488 - accuracy: 0.7440 - val_loss: 1.1889 - val_accuracy: 0.6529\n",
      "Epoch 38/100\n",
      "249/249 - 1s - loss: 0.9162 - accuracy: 0.7597 - val_loss: 1.1676 - val_accuracy: 0.6650\n",
      "Epoch 39/100\n",
      "249/249 - 1s - loss: 0.8925 - accuracy: 0.7617 - val_loss: 1.1550 - val_accuracy: 0.6650\n",
      "Epoch 40/100\n",
      "249/249 - 1s - loss: 0.8651 - accuracy: 0.7717 - val_loss: 1.1360 - val_accuracy: 0.6645\n",
      "Epoch 41/100\n",
      "249/249 - 1s - loss: 0.8380 - accuracy: 0.7854 - val_loss: 1.1213 - val_accuracy: 0.6781\n",
      "Epoch 42/100\n",
      "249/249 - 1s - loss: 0.8172 - accuracy: 0.7866 - val_loss: 1.1036 - val_accuracy: 0.6806\n",
      "Epoch 43/100\n",
      "249/249 - 1s - loss: 0.7916 - accuracy: 0.7927 - val_loss: 1.0884 - val_accuracy: 0.6796\n",
      "Epoch 44/100\n",
      "249/249 - 1s - loss: 0.7672 - accuracy: 0.7980 - val_loss: 1.0784 - val_accuracy: 0.6831\n",
      "Epoch 45/100\n",
      "249/249 - 1s - loss: 0.7486 - accuracy: 0.8060 - val_loss: 1.0675 - val_accuracy: 0.6856\n",
      "Epoch 46/100\n",
      "249/249 - 1s - loss: 0.7240 - accuracy: 0.8132 - val_loss: 1.0465 - val_accuracy: 0.6892\n",
      "Epoch 47/100\n",
      "249/249 - 1s - loss: 0.7025 - accuracy: 0.8212 - val_loss: 1.0479 - val_accuracy: 0.6841\n",
      "Epoch 48/100\n",
      "249/249 - 1s - loss: 0.6843 - accuracy: 0.8297 - val_loss: 1.0295 - val_accuracy: 0.6907\n",
      "Epoch 49/100\n",
      "249/249 - 1s - loss: 0.6592 - accuracy: 0.8356 - val_loss: 1.0158 - val_accuracy: 0.6912\n",
      "Epoch 50/100\n",
      "249/249 - 1s - loss: 0.6394 - accuracy: 0.8409 - val_loss: 1.0109 - val_accuracy: 0.6937\n",
      "Epoch 51/100\n",
      "249/249 - 1s - loss: 0.6203 - accuracy: 0.8425 - val_loss: 0.9986 - val_accuracy: 0.6972\n",
      "Epoch 52/100\n",
      "249/249 - 1s - loss: 0.6075 - accuracy: 0.8462 - val_loss: 0.9865 - val_accuracy: 0.7083\n",
      "Epoch 53/100\n",
      "249/249 - 1s - loss: 0.5833 - accuracy: 0.8619 - val_loss: 0.9828 - val_accuracy: 0.6987\n",
      "Epoch 54/100\n",
      "249/249 - 1s - loss: 0.5745 - accuracy: 0.8556 - val_loss: 0.9739 - val_accuracy: 0.7018\n",
      "Epoch 55/100\n",
      "249/249 - 1s - loss: 0.5569 - accuracy: 0.8619 - val_loss: 0.9704 - val_accuracy: 0.7058\n",
      "Epoch 56/100\n",
      "249/249 - 1s - loss: 0.5373 - accuracy: 0.8696 - val_loss: 0.9587 - val_accuracy: 0.7053\n",
      "Epoch 57/100\n",
      "249/249 - 1s - loss: 0.5176 - accuracy: 0.8756 - val_loss: 0.9579 - val_accuracy: 0.7134\n",
      "Epoch 58/100\n",
      "249/249 - 1s - loss: 0.5038 - accuracy: 0.8823 - val_loss: 0.9520 - val_accuracy: 0.7083\n",
      "Epoch 59/100\n",
      "249/249 - 1s - loss: 0.4890 - accuracy: 0.8817 - val_loss: 0.9519 - val_accuracy: 0.7214\n",
      "Epoch 60/100\n",
      "249/249 - 1s - loss: 0.4740 - accuracy: 0.8853 - val_loss: 0.9446 - val_accuracy: 0.7189\n",
      "Epoch 61/100\n",
      "249/249 - 1s - loss: 0.4579 - accuracy: 0.8923 - val_loss: 0.9272 - val_accuracy: 0.7219\n",
      "Epoch 62/100\n",
      "249/249 - 1s - loss: 0.4452 - accuracy: 0.8949 - val_loss: 0.9270 - val_accuracy: 0.7214\n",
      "Epoch 63/100\n",
      "249/249 - 1s - loss: 0.4387 - accuracy: 0.8933 - val_loss: 0.9223 - val_accuracy: 0.7224\n",
      "Epoch 64/100\n",
      "249/249 - 1s - loss: 0.4195 - accuracy: 0.9025 - val_loss: 0.9152 - val_accuracy: 0.7315\n",
      "Epoch 65/100\n",
      "249/249 - 1s - loss: 0.4079 - accuracy: 0.9011 - val_loss: 0.9151 - val_accuracy: 0.7234\n",
      "Epoch 66/100\n",
      "249/249 - 1s - loss: 0.3965 - accuracy: 0.9088 - val_loss: 0.9266 - val_accuracy: 0.7290\n",
      "Epoch 67/100\n",
      "249/249 - 1s - loss: 0.3852 - accuracy: 0.9105 - val_loss: 0.9112 - val_accuracy: 0.7270\n",
      "Epoch 68/100\n",
      "249/249 - 1s - loss: 0.3752 - accuracy: 0.9104 - val_loss: 0.9074 - val_accuracy: 0.7411\n",
      "Epoch 69/100\n",
      "249/249 - 1s - loss: 0.3617 - accuracy: 0.9104 - val_loss: 0.8982 - val_accuracy: 0.7295\n",
      "Epoch 70/100\n",
      "249/249 - 1s - loss: 0.3486 - accuracy: 0.9184 - val_loss: 0.8973 - val_accuracy: 0.7365\n",
      "Epoch 71/100\n",
      "249/249 - 1s - loss: 0.3387 - accuracy: 0.9223 - val_loss: 0.9050 - val_accuracy: 0.7375\n",
      "Epoch 72/100\n",
      "249/249 - 1s - loss: 0.3331 - accuracy: 0.9208 - val_loss: 0.9092 - val_accuracy: 0.7360\n",
      "Epoch 73/100\n",
      "249/249 - 1s - loss: 0.3204 - accuracy: 0.9236 - val_loss: 0.9012 - val_accuracy: 0.7305\n"
     ]
    }
   ],
   "source": [
    "# Training\n",
    "history = model.fit(train_padded, train_labels, epochs=100, \n",
    "                    validation_data=(test_padded, test_labels), \n",
    "                    callbacks=[early_stopping, tb], verbose=2)"
   ]
  },
  {
   "cell_type": "code",
   "execution_count": 32,
   "metadata": {},
   "outputs": [
    {
     "name": "stdout",
     "output_type": "stream",
     "text": [
      "63/63 [==============================] - 0s 2ms/step - loss: 0.9012 - accuracy: 0.7305\n"
     ]
    },
    {
     "data": {
      "text/plain": [
       "[0.9012298583984375, 0.7304785847663879]"
      ]
     },
     "execution_count": 32,
     "metadata": {},
     "output_type": "execute_result"
    }
   ],
   "source": [
    "# Evaluate on the test set\n",
    "\n",
    "model.evaluate(test_padded, test_labels)"
   ]
  },
  {
   "cell_type": "code",
   "execution_count": 33,
   "metadata": {},
   "outputs": [
    {
     "data": {
      "text/plain": [
       "[]"
      ]
     },
     "execution_count": 33,
     "metadata": {},
     "output_type": "execute_result"
    },
    {
     "data": {
      "image/png": "[encoded data removed]",
      "text/plain": [
       "<Figure size 576x396 with 1 Axes>"
      ]
     },
     "metadata": {},
     "output_type": "display_data"
    },
    {
     "data": {
      "image/png": "[encoded data removed]",
      "text/plain": [
       "<Figure size 576x396 with 1 Axes>"
      ]
     },
     "metadata": {},
     "output_type": "display_data"
    }
   ],
   "source": [
    "history = pd.DataFrame(history.history)\n",
    "history[['loss', 'val_loss']].plot()\n",
    "plt.title('Loss in Training/Test')\n",
    "plt.plot()\n",
    "\n",
    "history[['accuracy', 'val_accuracy']].plot()\n",
    "plt.title('Accuracy in Training/Test')\n",
    "plt.plot()\n"
   ]
  },
  {
   "cell_type": "markdown",
   "metadata": {},
   "source": [
    "# Save the model"
   ]
  },
  {
   "cell_type": "code",
   "execution_count": 34,
   "metadata": {},
   "outputs": [],
   "source": [
    "model.save(MODEL_PATH)"
   ]
  },
  {
   "cell_type": "markdown",
   "metadata": {},
   "source": [
    "# Load the model from file and use it to make predictions"
   ]
  },
  {
   "cell_type": "code",
   "execution_count": 35,
   "metadata": {},
   "outputs": [],
   "source": [
    "def load_model(model_path):\n",
    "    if not os.path.exists(model_path):\n",
    "        raise FileNotFoundError('Please train the model first.')\n",
    "    model = tf.keras.models.load_model(model_path)\n",
    "    return model"
   ]
  },
  {
   "cell_type": "code",
   "execution_count": 36,
   "metadata": {},
   "outputs": [
    {
     "data": {
      "text/plain": [
       "<keras.engine.sequential.Sequential at 0x1cb0825feb0>"
      ]
     },
     "execution_count": 36,
     "metadata": {},
     "output_type": "execute_result"
    }
   ],
   "source": [
    "model = load_model(MODEL_PATH)\n",
    "model"
   ]
  },
  {
   "cell_type": "code",
   "execution_count": 37,
   "metadata": {},
   "outputs": [],
   "source": [
    "def predict(texts, model, tokenizer):\n",
    "    # Preprocess\n",
    "    padded = tokenize(texts, tokenizer)\n",
    "    padded = np.array(padded, dtype='int32')\n",
    "\n",
    "    # Make predictions\n",
    "    predictions = model.predict(padded)\n",
    "    predictions = [TOPICS[np.argmax(p)] for p in predictions]\n",
    "    \n",
    "    return predictions"
   ]
  },
  {
   "cell_type": "code",
   "execution_count": 38,
   "metadata": {},
   "outputs": [
    {
     "data": {
      "text/html": [
       "<div>\n",
       "<style scoped>\n",
       "    .dataframe tbody tr th:only-of-type {\n",
       "        vertical-align: middle;\n",
       "    }\n",
       "\n",
       "    .dataframe tbody tr th {\n",
       "        vertical-align: top;\n",
       "    }\n",
       "\n",
       "    .dataframe thead th {\n",
       "        text-align: right;\n",
       "    }\n",
       "</style>\n",
       "<table border=\"1\" class=\"dataframe\">\n",
       "  <thead>\n",
       "    <tr style=\"text-align: right;\">\n",
       "      <th></th>\n",
       "      <th>input</th>\n",
       "      <th>real</th>\n",
       "      <th>prediction</th>\n",
       "      <th>is_correct</th>\n",
       "    </tr>\n",
       "  </thead>\n",
       "  <tbody>\n",
       "    <tr>\n",
       "      <th>0</th>\n",
       "      <td>miami marlins hire kim ng mlb first female gen...</td>\n",
       "      <td>sports</td>\n",
       "      <td>sports</td>\n",
       "      <td>True</td>\n",
       "    </tr>\n",
       "    <tr>\n",
       "      <th>1</th>\n",
       "      <td>pretty great team work</td>\n",
       "      <td>sports</td>\n",
       "      <td>gaming</td>\n",
       "      <td>False</td>\n",
       "    </tr>\n",
       "    <tr>\n",
       "      <th>2</th>\n",
       "      <td>much better</td>\n",
       "      <td>gaming</td>\n",
       "      <td>gaming</td>\n",
       "      <td>True</td>\n",
       "    </tr>\n",
       "    <tr>\n",
       "      <th>3</th>\n",
       "      <td>date bobby boucher showed halftime mud dogs bo...</td>\n",
       "      <td>sports</td>\n",
       "      <td>travel</td>\n",
       "      <td>False</td>\n",
       "    </tr>\n",
       "    <tr>\n",
       "      <th>4</th>\n",
       "      <td>chemical romance announce full reunion tour</td>\n",
       "      <td>music</td>\n",
       "      <td>music</td>\n",
       "      <td>True</td>\n",
       "    </tr>\n",
       "    <tr>\n",
       "      <th>...</th>\n",
       "      <td>...</td>\n",
       "      <td>...</td>\n",
       "      <td>...</td>\n",
       "      <td>...</td>\n",
       "    </tr>\n",
       "    <tr>\n",
       "      <th>1980</th>\n",
       "      <td>britney spears called report victim conservato...</td>\n",
       "      <td>entertainment</td>\n",
       "      <td>politics</td>\n",
       "      <td>False</td>\n",
       "    </tr>\n",
       "    <tr>\n",
       "      <th>1981</th>\n",
       "      <td>view london eye</td>\n",
       "      <td>travel</td>\n",
       "      <td>travel</td>\n",
       "      <td>True</td>\n",
       "    </tr>\n",
       "    <tr>\n",
       "      <th>1982</th>\n",
       "      <td>parents force unremorseful kids apologize othe...</td>\n",
       "      <td>science</td>\n",
       "      <td>science</td>\n",
       "      <td>True</td>\n",
       "    </tr>\n",
       "    <tr>\n",
       "      <th>1983</th>\n",
       "      <td>american dream slowly fading away research ind...</td>\n",
       "      <td>science</td>\n",
       "      <td>science</td>\n",
       "      <td>True</td>\n",
       "    </tr>\n",
       "    <tr>\n",
       "      <th>1984</th>\n",
       "      <td>cobra kai uses kreese warn glorifying military</td>\n",
       "      <td>entertainment</td>\n",
       "      <td>entertainment</td>\n",
       "      <td>True</td>\n",
       "    </tr>\n",
       "  </tbody>\n",
       "</table>\n",
       "<p>1985 rows × 4 columns</p>\n",
       "</div>"
      ],
      "text/plain": [
       "                                                  input           real  \\\n",
       "0     miami marlins hire kim ng mlb first female gen...         sports   \n",
       "1                                pretty great team work         sports   \n",
       "2                                           much better         gaming   \n",
       "3     date bobby boucher showed halftime mud dogs bo...         sports   \n",
       "4           chemical romance announce full reunion tour          music   \n",
       "...                                                 ...            ...   \n",
       "1980  britney spears called report victim conservato...  entertainment   \n",
       "1981                                    view london eye         travel   \n",
       "1982  parents force unremorseful kids apologize othe...        science   \n",
       "1983  american dream slowly fading away research ind...        science   \n",
       "1984     cobra kai uses kreese warn glorifying military  entertainment   \n",
       "\n",
       "         prediction  is_correct  \n",
       "0            sports        True  \n",
       "1            gaming       False  \n",
       "2            gaming        True  \n",
       "3            travel       False  \n",
       "4             music        True  \n",
       "...             ...         ...  \n",
       "1980       politics       False  \n",
       "1981         travel        True  \n",
       "1982        science        True  \n",
       "1983        science        True  \n",
       "1984  entertainment        True  \n",
       "\n",
       "[1985 rows x 4 columns]"
      ]
     },
     "execution_count": 38,
     "metadata": {},
     "output_type": "execute_result"
    }
   ],
   "source": [
    "inputs = test_texts\n",
    "real = [TOPICS[l] for l in test_labels]\n",
    "predictions = predict(inputs, model, tokenizer)\n",
    "\n",
    "outputs = pd.DataFrame({\n",
    "    'input': inputs,\n",
    "    'real': real,\n",
    "    'prediction': predictions\n",
    "})\n",
    "\n",
    "outputs['is_correct'] = outputs['real'] == outputs['prediction']\n",
    "\n",
    "outputs"
   ]
  },
  {
   "cell_type": "code",
   "execution_count": 39,
   "metadata": {},
   "outputs": [],
   "source": [
    "# Save the model output to CSV\n",
    "\n",
    "outputs.to_csv(PREDICTIONS_PATH, index=False)"
   ]
  },
  {
   "cell_type": "code",
   "execution_count": 40,
   "metadata": {},
   "outputs": [
    {
     "data": {
      "text/plain": [
       "Text(0.5, 1.0, 'True/False Predictions')"
      ]
     },
     "execution_count": 40,
     "metadata": {},
     "output_type": "execute_result"
    },
    {
     "data": {
      "image/png": "[encoded data removed]",
      "text/plain": [
       "<Figure size 576x396 with 1 Axes>"
      ]
     },
     "metadata": {},
     "output_type": "display_data"
    }
   ],
   "source": [
    "outputs.is_correct.value_counts().plot(kind='bar')\n",
    "plt.title('True/False Predictions')"
   ]
  },
  {
   "cell_type": "code",
   "execution_count": 41,
   "metadata": {},
   "outputs": [],
   "source": [
    "def predictions_by_group():\n",
    "    results = {}\n",
    "\n",
    "    for prediction, label in zip(predictions, real):\n",
    "        if label not in results.keys():\n",
    "            results.update({label: {'correct': 0, 'wrong': 0}})\n",
    "\n",
    "        if label == prediction:\n",
    "            results[label]['correct'] += 1\n",
    "        else:\n",
    "            results[label]['wrong'] += 1\n",
    "\n",
    "    group_predictions = pd.DataFrame(results).T\n",
    "\n",
    "    return group_predictions"
   ]
  },
  {
   "cell_type": "code",
   "execution_count": 42,
   "metadata": {},
   "outputs": [
    {
     "data": {
      "text/plain": [
       "<AxesSubplot:>"
      ]
     },
     "execution_count": 42,
     "metadata": {},
     "output_type": "execute_result"
    },
    {
     "data": {
      "image/png": "[encoded data removed]",
      "text/plain": [
       "<Figure size 576x396 with 1 Axes>"
      ]
     },
     "metadata": {},
     "output_type": "display_data"
    }
   ],
   "source": [
    "group_predictions = predictions_by_group()\n",
    "group_predictions.plot(kind='bar')"
   ]
  },
  {
   "cell_type": "code",
   "execution_count": 43,
   "metadata": {},
   "outputs": [
    {
     "data": {
      "text/html": [
       "<div>\n",
       "<style scoped>\n",
       "    .dataframe tbody tr th:only-of-type {\n",
       "        vertical-align: middle;\n",
       "    }\n",
       "\n",
       "    .dataframe tbody tr th {\n",
       "        vertical-align: top;\n",
       "    }\n",
       "\n",
       "    .dataframe thead th {\n",
       "        text-align: right;\n",
       "    }\n",
       "</style>\n",
       "<table border=\"1\" class=\"dataframe\">\n",
       "  <thead>\n",
       "    <tr style=\"text-align: right;\">\n",
       "      <th></th>\n",
       "      <th>correct</th>\n",
       "      <th>wrong</th>\n",
       "      <th>accuracy</th>\n",
       "    </tr>\n",
       "  </thead>\n",
       "  <tbody>\n",
       "    <tr>\n",
       "      <th>sports</th>\n",
       "      <td>129</td>\n",
       "      <td>71</td>\n",
       "      <td>0.64</td>\n",
       "    </tr>\n",
       "    <tr>\n",
       "      <th>gaming</th>\n",
       "      <td>147</td>\n",
       "      <td>46</td>\n",
       "      <td>0.76</td>\n",
       "    </tr>\n",
       "    <tr>\n",
       "      <th>music</th>\n",
       "      <td>137</td>\n",
       "      <td>68</td>\n",
       "      <td>0.67</td>\n",
       "    </tr>\n",
       "    <tr>\n",
       "      <th>python</th>\n",
       "      <td>141</td>\n",
       "      <td>30</td>\n",
       "      <td>0.82</td>\n",
       "    </tr>\n",
       "    <tr>\n",
       "      <th>technology</th>\n",
       "      <td>119</td>\n",
       "      <td>91</td>\n",
       "      <td>0.57</td>\n",
       "    </tr>\n",
       "    <tr>\n",
       "      <th>politics</th>\n",
       "      <td>144</td>\n",
       "      <td>40</td>\n",
       "      <td>0.78</td>\n",
       "    </tr>\n",
       "    <tr>\n",
       "      <th>books</th>\n",
       "      <td>145</td>\n",
       "      <td>67</td>\n",
       "      <td>0.68</td>\n",
       "    </tr>\n",
       "    <tr>\n",
       "      <th>travel</th>\n",
       "      <td>194</td>\n",
       "      <td>41</td>\n",
       "      <td>0.83</td>\n",
       "    </tr>\n",
       "    <tr>\n",
       "      <th>science</th>\n",
       "      <td>174</td>\n",
       "      <td>22</td>\n",
       "      <td>0.89</td>\n",
       "    </tr>\n",
       "    <tr>\n",
       "      <th>entertainment</th>\n",
       "      <td>120</td>\n",
       "      <td>59</td>\n",
       "      <td>0.67</td>\n",
       "    </tr>\n",
       "  </tbody>\n",
       "</table>\n",
       "</div>"
      ],
      "text/plain": [
       "               correct  wrong  accuracy\n",
       "sports             129     71      0.64\n",
       "gaming             147     46      0.76\n",
       "music              137     68      0.67\n",
       "python             141     30      0.82\n",
       "technology         119     91      0.57\n",
       "politics           144     40      0.78\n",
       "books              145     67      0.68\n",
       "travel             194     41      0.83\n",
       "science            174     22      0.89\n",
       "entertainment      120     59      0.67"
      ]
     },
     "execution_count": 43,
     "metadata": {},
     "output_type": "execute_result"
    }
   ],
   "source": [
    "group_predictions['accuracy'] = group_predictions['correct'] / (group_predictions['correct'] + group_predictions['wrong'])\n",
    "group_predictions['accuracy'] = group_predictions['accuracy'].round(2)  # Round to 2 decimals\n",
    "group_predictions"
   ]
  },
  {
   "cell_type": "code",
   "execution_count": 44,
   "metadata": {},
   "outputs": [],
   "source": [
    "group_predictions.to_csv(GROUP_PREDICTIONS_PATH, index=True)"
   ]
  },
  {
   "cell_type": "markdown",
   "metadata": {},
   "source": [
    "# More Evaluation Metrics"
   ]
  },
  {
   "cell_type": "code",
   "execution_count": 45,
   "metadata": {},
   "outputs": [],
   "source": [
    "y_true = outputs['real'].to_numpy()\n",
    "y_pred = outputs['prediction'].to_numpy()\n",
    "labels = outputs['real'].unique()"
   ]
  },
  {
   "cell_type": "code",
   "execution_count": 46,
   "metadata": {},
   "outputs": [],
   "source": [
    "def evaluate(y_true, y_pred, labels, average='macro'):\n",
    "    acc = accuracy_score(y_true, y_pred)\n",
    "    precision = precision_score(y_true, y_pred, labels=labels, average=average)\n",
    "    recall = recall_score(y_true, y_pred, labels=labels, average=average)\n",
    "    f1 = f1_score(y_true, y_pred, labels=labels, average=average)\n",
    "\n",
    "    metrics = pd.Series([acc, precision, recall, f1], index=[\n",
    "        'Accuracy', 'Precision', 'Recall', 'F1'\n",
    "    ])\n",
    "\n",
    "    return metrics"
   ]
  },
  {
   "cell_type": "code",
   "execution_count": 47,
   "metadata": {},
   "outputs": [
    {
     "data": {
      "text/plain": [
       "Accuracy     0.730479\n",
       "Precision    0.753760\n",
       "Recall       0.731643\n",
       "F1           0.735052\n",
       "dtype: float64"
      ]
     },
     "execution_count": 47,
     "metadata": {},
     "output_type": "execute_result"
    }
   ],
   "source": [
    "evaluate(y_true, y_pred, labels)"
   ]
  }
 ],
 "metadata": {
  "interpreter": {
   "hash": "53cf36c0400a86c05b0b35a71453b6bd58489107c9ac0dee1a1c525ad856fd52"
  },
  "kernelspec": {
   "display_name": "Python 3 (ipykernel)",
   "language": "python",
   "name": "python3"
  },
  "language_info": {
   "codemirror_mode": {
    "name": "ipython",
    "version": 3
   },
   "file_extension": ".py",
   "mimetype": "text/x-python",
   "name": "python",
   "nbconvert_exporter": "python",
   "pygments_lexer": "ipython3",
   "version": "3.8.8"
  }
 },
 "nbformat": 4,
 "nbformat_minor": 2
}
